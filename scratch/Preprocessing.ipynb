{
 "cells": [
  {
   "cell_type": "code",
   "execution_count": null,
   "metadata": {},
   "outputs": [],
   "source": [
    "import cv2\n",
    "import numpy as np"
   ]
  },
  {
   "cell_type": "markdown",
   "metadata": {},
   "source": [
    "## 1. Subdividing image"
   ]
  },
  {
   "cell_type": "code",
   "execution_count": null,
   "metadata": {},
   "outputs": [],
   "source": [
    "###### Subdividing the image into 4 parts for better detection(models typically resize images to smaller sizes)\n",
    "##########################################################\n",
    "\n",
    "def sub_dividing(image_path):\n",
    "    image = cv2.imread(image_path)\n",
    "    \n",
    "    height, width = image.shape[:2]\n",
    "\n",
    "    # Subdivide the image\n",
    "    cropped_top_1 = image[int(0):int(height * .5) , int(0):int(width* .5)]\n",
    "\n",
    "    cropped_top_2 = image[int(0):int(height * .5) , int(width* .5):int(image.shape[1])]\n",
    "\n",
    "    cropped_bot_1 = image[int(height * .5):int(height) , int(0):int(width* .5)]\n",
    "\n",
    "    cropped_bot_2 = image[int(height * .5):int(image.shape[1]) , int(width* .5):int(width)]\n",
    "    \n",
    "    \n",
    "    return cropped_top_1,cropped_top_2, cropped_bot_1, cropped_bot_2"
   ]
  },
  {
   "cell_type": "markdown",
   "metadata": {},
   "source": [
    "## 2. Applying background mask"
   ]
  },
  {
   "cell_type": "code",
   "execution_count": null,
   "metadata": {},
   "outputs": [],
   "source": [
    "###### masking images after background subtraction #######\n",
    "##########################################################\n",
    "\n",
    "def apply_mask(mask_path,image_path ):\n",
    "   \n",
    "    m =  cv2.imread(mask_path) #background subtracted image (has to be the same size as the original image)\n",
    "    n =  cv2.imread(image_path) #origional image\n",
    "\n",
    "    for i in range(m.shape[0]):\n",
    "        for j in range(m.shape[1]):\n",
    "            if m[i][j][0]==[0] and m[i][j][1]==[0] and m[i][j][2]==[0]:\n",
    "                n[i][j]=[0,0,0]\n",
    "\n",
    "    #cv2.imshow('matrix', n)\n",
    "    #cv2.waitKey(0) \n",
    "    #cv2.destroyAllWindows()\n",
    "    \n",
    "    return n #returns masked image"
   ]
  }
 ],
 "metadata": {
  "kernelspec": {
   "display_name": "Python 3",
   "language": "python",
   "name": "python3"
  },
  "language_info": {
   "codemirror_mode": {
    "name": "ipython",
    "version": 3
   },
   "file_extension": ".py",
   "mimetype": "text/x-python",
   "name": "python",
   "nbconvert_exporter": "python",
   "pygments_lexer": "ipython3",
   "version": "3.6.4"
  }
 },
 "nbformat": 4,
 "nbformat_minor": 2
}
