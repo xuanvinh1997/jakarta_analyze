{
 "cells": [
  {
   "cell_type": "markdown",
   "metadata": {},
   "source": [
    "## Data Exploration: Video data"
   ]
  },
  {
   "cell_type": "code",
   "execution_count": null,
   "metadata": {},
   "outputs": [],
   "source": [
    "#import open cv\n",
    "import cv2\n",
    "vid = '.mkv'"
   ]
  },
  {
   "cell_type": "code",
   "execution_count": null,
   "metadata": {},
   "outputs": [],
   "source": [
    "#read in video file\n",
    "cap = cv2.VideoCapture('.mkv')\n",
    "\n",
    "#for video properties type : cap.get(cv2.CAP_PROP_* then tab\n",
    "print(\"Number of frames in file: \" + str(cap.get(cv2.CAP_PROP_FRAME_COUNT)) )\n",
    "print(\"Frame Height: \" + str(cap.get(cv2.CAP_PROP_FRAME_HEIGHT))) \n",
    "print(\"Frame Width: \" + str(cap.get(cv2.CAP_PROP_FRAME_WIDTH))) \n"
   ]
  },
  {
   "cell_type": "code",
   "execution_count": null,
   "metadata": {},
   "outputs": [],
   "source": [
    "#\n",
    "count = 0\n",
    "while cap.isOpened():\n",
    "    ret,frame = cap.read()\n",
    "    #play the frames\n",
    "    cv2.imshow('window-name',frame)\n",
    "    # convert frame to jpeg and store in current directory\n",
    "    #cv2.imwrite(\"frame%d.jpg\" % count, frame)\n",
    "    count = count + 1\n",
    "    \n",
    "    # press q to close\n",
    "    if cv2.waitKey(10) & 0xFF == ord('q'):\n",
    "        break\n",
    "\n",
    "#make sure you always have these lines to close properly or jupyter will crash\n",
    "cap.release()\n",
    "cv2.destroyAllWindows() "
   ]
  },
  {
   "cell_type": "markdown",
   "metadata": {},
   "source": [
    "## Trying to get the metadata "
   ]
  },
  {
   "cell_type": "markdown",
   "metadata": {},
   "source": [
    "### Getting timestamps - using ffmpeg on the command line"
   ]
  },
  {
   "cell_type": "markdown",
   "metadata": {},
   "source": [
    "##### You need to have installed ffmpeg \n",
    "\n",
    "* for windows: (https://video.stackexchange.com/questions/20495/how-do-i-set-up-and-use-ffmpeg-in-windows?utm_medium=organic&utm_source=google_rich_qa&utm_campaign=google_rich_qa) \n",
    "    ** also set up env variables\n",
    "* or linux: `sudo apt-get install ffmpeg`\n",
    "* install srt (`pip install srt`) - a Python library and set of tools I’ve written for dealing with SRT (subtitle format) files\n",
    "\n",
    "* extra resources:\n",
    "\n",
    "    * https://chrisdown.name/2016/09/04/cleaning-up-muxing-extracting-subtitles-using-ffmpeg-srt-tools.html\n",
    "    * https://ffmpeg.zeranoe.com/builds/\n",
    "    * https://ffmpeg.org/ffprobe.html"
   ]
  },
  {
   "cell_type": "code",
   "execution_count": null,
   "metadata": {},
   "outputs": [],
   "source": [
    "# View metadata\n",
    "## Stream #0:0 ->the subtitles\n",
    "\n",
    "!ffprobe -i .mkv "
   ]
  },
  {
   "cell_type": "code",
   "execution_count": null,
   "metadata": {},
   "outputs": [],
   "source": [
    "# ffmpeg -i <filename> -map <Stream #> <name of new .srt file>\n",
    "\n",
    "!ffmpeg -i .mkv -map 0:0 eng_2.srt"
   ]
  },
  {
   "cell_type": "code",
   "execution_count": null,
   "metadata": {},
   "outputs": [],
   "source": []
  }
 ],
 "metadata": {
  "kernelspec": {
   "display_name": "Python 3",
   "language": "python",
   "name": "python3"
  },
  "language_info": {
   "codemirror_mode": {
    "name": "ipython",
    "version": 3
   },
   "file_extension": ".py",
   "mimetype": "text/x-python",
   "name": "python",
   "nbconvert_exporter": "python",
   "pygments_lexer": "ipython3",
   "version": "3.6.2"
  }
 },
 "nbformat": 4,
 "nbformat_minor": 2
}
