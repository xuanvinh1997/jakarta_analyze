{
 "cells": [
  {
   "cell_type": "markdown",
   "metadata": {},
   "source": [
    "# Introduction"
   ]
  },
  {
   "cell_type": "code",
   "execution_count": null,
   "metadata": {},
   "outputs": [],
   "source": [
    "# Load libraries\n",
    "import pandas as pd\n",
    "import os\n",
    "import matplotlib\n",
    "import folium\n",
    "from plotnine import *\n",
    "from matplotlib.dates import date2num\n",
    "%matplotlib inline"
   ]
  },
  {
   "cell_type": "markdown",
   "metadata": {},
   "source": [
    "In this intial report, we explore descriptive statistics arising from the initial accident, traffic level, and traffic report datasets provided to us by our partners, Jakarta Smart City and UN Global Pulse. These data constitute a sample of traffic data from May 2018, and reflect information such as the number of reports, types of traffic incidents, and frequency of accidents. They are also geocoded by district.\n",
    "\n",
    "In general, we find some support for the notion that traffic incidents change in frequency and type over the course of a day, week, or month. This initial exploration is useful as it points to other data sources that might be helpful for us."
   ]
  },
  {
   "cell_type": "markdown",
   "metadata": {},
   "source": [
    "# Accident Data"
   ]
  },
  {
   "cell_type": "markdown",
   "metadata": {},
   "source": [
    "The accident data was small (only 2 observations), but we would be excited to see more data that looks like these. The following fields are a bit unclear to us:\n",
    "\n",
    "- type: We only see 'ACCIDENT' here so we are curious about what other categories might be contained here\n",
    "- sub-type: Similarly, we are interested in the range of sub-types\n",
    "- total: As with the other datasets, we are curious as to whether 'total' refers to the total number of reports \n"
   ]
  },
  {
   "cell_type": "code",
   "execution_count": null,
   "metadata": {},
   "outputs": [],
   "source": [
    "# Load datasets\n",
    "accident_report = pd.read_csv(\"accident_report_data.csv\")\n",
    "traffic_level = pd.read_csv(\"traffic_level_data.csv\")\n",
    "traffic_report = pd.read_csv(\"traffic_report_data.csv\")"
   ]
  },
  {
   "cell_type": "markdown",
   "metadata": {},
   "source": [
    "# Map of Jakarta"
   ]
  },
  {
   "cell_type": "markdown",
   "metadata": {},
   "source": [
    "In this section, we plot a preliminary map of Jakarta to get a sense for how the city is shaped and zoned. One useful piece of data that would augment any geospatial analysis would be a geojson or shape file containing the district lines for each district within the city. With this information, we would be able to map the change in traffic incidents over time, as well as differences between the districts."
   ]
  },
  {
   "cell_type": "code",
   "execution_count": null,
   "metadata": {},
   "outputs": [],
   "source": [
    "# Map Jakarta\n",
    "jakarta_coords = (-6.1751, 106.8650)\n",
    "jakarta_map = folium.Map(jakarta_coords, zoom_start = 12, tiles = 'Mapbox Bright')\n",
    "folium.TileLayer('stamentoner').add_to(jakarta_map)"
   ]
  },
  {
   "cell_type": "code",
   "execution_count": null,
   "metadata": {
    "scrolled": false
   },
   "outputs": [],
   "source": [
    "jakarta_map"
   ]
  },
  {
   "cell_type": "markdown",
   "metadata": {},
   "source": [
    "# Traffic Level"
   ]
  },
  {
   "cell_type": "markdown",
   "metadata": {},
   "source": [
    "In this section, we look at the trends in the \"traffic_level_dataset\" csv. These data are interesting because they provide information about the delays experienced by motorists in each region, are collected fairly regularly. Our major question here is what 'delay' is measured in, namely whether it measures seconds or minutes."
   ]
  },
  {
   "cell_type": "code",
   "execution_count": null,
   "metadata": {},
   "outputs": [],
   "source": [
    "# traffic_level metadata\n",
    "\n",
    "traffic_level['date_time'] = pd.to_datetime(traffic_level['date'] + ' ' + traffic_level['start_time'])\n",
    "traffic_level.head()"
   ]
  },
  {
   "cell_type": "markdown",
   "metadata": {},
   "source": [
    "Below, we visualize the general delays experienced by each area in aggregate. We use histograms to show the overall distributions. In general, across all areas, delays tend to concentrate on the 'shorter' side. Gambir is notable in this regard as nearly all of its reports contain delays around 100.\n",
    "\n",
    "We would be interested in learning more about each of these areas, and what drives these small, but potentially important, differences in the delays experienced in each."
   ]
  },
  {
   "cell_type": "code",
   "execution_count": null,
   "metadata": {},
   "outputs": [],
   "source": [
    "(ggplot(traffic_level[traffic_level.delay < 2000], aes('delay')) \n",
    " + geom_histogram(bins = 30)\n",
    " + facet_wrap('~area')\n",
    " + ggtitle('Histogram of Traffic Delays by Area') \n",
    " + xlab('Delay')\n",
    " + ylab('Count')\n",
    " + theme_bw())"
   ]
  },
  {
   "cell_type": "markdown",
   "metadata": {},
   "source": [
    "Here, we visualize time series across the two-week period for each area. It is interesting to note here that certain areas experience spikes on particular days, even if other areas do not. For instance, Gambir experienced a spike in delays on May 13th, even though no other area experienced a similar spike. Meanwhile, Gunung Sahari Utara experienced a spike on May 3rd that did not occur in Gambir. Kampung Melayu was very consistent across the entire period, never experiencing a major fluctuation in delay times.\n",
    "\n",
    "We would need more data to explore whether these differences are largely explained by one-time events (such as construction or an accident), or whether they are systematically related to something like the day of week."
   ]
  },
  {
   "cell_type": "code",
   "execution_count": null,
   "metadata": {},
   "outputs": [],
   "source": [
    "(ggplot(traffic_level[traffic_level.delay < 2000], aes('date_time', 'delay'))\n",
    "+ geom_line()\n",
    "+ xlab('Date/Time')\n",
    "+ ylab('Delay')\n",
    "+ ggtitle('Time Series of Traffic Delays across All Days')\n",
    "+ theme_bw()\n",
    "+ theme(axis_text_x = element_text(angle = 90, hjust = .5))\n",
    "+ facet_wrap('~area'))"
   ]
  },
  {
   "cell_type": "markdown",
   "metadata": {},
   "source": [
    "Finally, we visualize a day of delays in Gambir, namely May 1st. Here, we can see that delays substantially decrease around mid-afternoon (down to around 80), but the mornings and early evenings experience larger delays (close to 140 at points)."
   ]
  },
  {
   "cell_type": "code",
   "execution_count": null,
   "metadata": {},
   "outputs": [],
   "source": [
    "(ggplot(traffic_level[(traffic_level.area == 'Gambir') & \n",
    "                      (traffic_level.delay < 2000) &\n",
    "                      (traffic_level.date == '2018-05-01')], \n",
    "        aes('start_time', 'delay', group = 1))\n",
    "+ geom_line()\n",
    "+ xlab('Date/Time')\n",
    "+ ylab('Delay')\n",
    "+ ggtitle('Gambir Time Series of Traffic Delays on May 1, 2018')\n",
    "+ theme_bw()\n",
    "+ theme(axis_text_x = element_text(angle = 90, hjust = .5)))"
   ]
  },
  {
   "cell_type": "markdown",
   "metadata": {},
   "source": [
    "# Traffic Report"
   ]
  },
  {
   "cell_type": "markdown",
   "metadata": {},
   "source": [
    "Next, we visualize the \"traffic_reports_dataset\" csv. These data provide the type and sub-types for various incidents."
   ]
  },
  {
   "cell_type": "code",
   "execution_count": null,
   "metadata": {},
   "outputs": [],
   "source": [
    "# Look at traffic_report\n",
    "traffic_report.head()"
   ]
  },
  {
   "cell_type": "code",
   "execution_count": null,
   "metadata": {},
   "outputs": [],
   "source": [
    "traffic_report['date_time'] = pd.to_datetime(traffic_level['date'] + ' ' + traffic_level['start_time'])\n",
    "traffic_report.head()"
   ]
  },
  {
   "cell_type": "markdown",
   "metadata": {},
   "source": [
    "Here we visualize the frequency of different types of roadway incideints. Traffic jams are the dominant reason for reporting a traffic incident by a large margin. Citizens rarely reported roadway hazards or road closures as a reason for a delay.\n",
    "\n",
    "One interesting implication of this finding is that hazards do not pose as large a risk to safety as we originally thought. This may inform how we process the video data; if roadway hazards rarely cause problems for motorists, our time may be better spent on other tasks (such as detecting dangerous driving patterns)."
   ]
  },
  {
   "cell_type": "code",
   "execution_count": null,
   "metadata": {},
   "outputs": [],
   "source": [
    "(ggplot(traffic_report)\n",
    "+ geom_bar(aes('type'))\n",
    "+ ggtitle('Barplot of Incident Types')\n",
    "+ xlab('Type of Accident')\n",
    "+ ylab('Count')\n",
    "+ theme_bw())"
   ]
  },
  {
   "cell_type": "markdown",
   "metadata": {},
   "source": [
    "Within traffic jams, we visualize the various 'sub-types' that people report. Citizens most frequently reported 'heavy,' and 'stand still' traffic. This may be because people are more likely to complain about bad traffic than report light or moderate traffic, but nonetheless provides a nice snapshot into the prevalence of congestion in the dataset."
   ]
  },
  {
   "cell_type": "code",
   "execution_count": null,
   "metadata": {},
   "outputs": [],
   "source": [
    "(ggplot(traffic_report[(traffic_report['type'] == 'JAM') & (traffic_report['sub-type'].notnull())])\n",
    "+ geom_bar(aes('sub-type'))\n",
    "+ ggtitle('Barplot of Traffic Jam Sub-Types')\n",
    "+ xlab('Type of Accident')\n",
    "+ ylab('Count')\n",
    "+ theme_bw()\n",
    "+ theme(axis_text_x = element_text(angle = 90, hjust = 1)))"
   ]
  },
  {
   "cell_type": "markdown",
   "metadata": {},
   "source": [
    "# Traffic Levels and Reports Data"
   ]
  },
  {
   "cell_type": "markdown",
   "metadata": {},
   "source": [
    "Finally, we merge the traffic levels and reports data to see if there is a plausible relationship between reported traffic jams and increased delays."
   ]
  },
  {
   "cell_type": "code",
   "execution_count": null,
   "metadata": {},
   "outputs": [],
   "source": [
    "traffic_all = pd.merge(traffic_level, traffic_report.drop(['date', 'start_time', 'end_time', 'Unnamed: 0'], axis = 1), how = 'outer', on = ['area', 'date_time'], validate = 'one_to_many')\n",
    "traffic_all.head(5)"
   ]
  },
  {
   "cell_type": "code",
   "execution_count": null,
   "metadata": {},
   "outputs": [],
   "source": [
    "cuts_gambir = traffic_all[(traffic_all['type'] == 'JAM') & \n",
    "                          (traffic_all['date'] == '2018-05-01') &\n",
    "                          (traffic_all['area'] == 'Gambir') &\n",
    "                         (traffic_all['delay'] < 2000)][['start_time', 'date_time', 'area', 'type', 'sub-type']]"
   ]
  },
  {
   "cell_type": "markdown",
   "metadata": {},
   "source": [
    "As we can see from the plot below, reports of traffic jams are generally followed by dramatic events. In two cases, they preceded substantial increases in delay time. However, in two other cases delay times dropped considerably. More data will be necessary to draw firm conclusions, but this may reflect idiosyncrasies in the way data were aggregated."
   ]
  },
  {
   "cell_type": "code",
   "execution_count": null,
   "metadata": {},
   "outputs": [],
   "source": [
    "(ggplot(traffic_all[(traffic_all.area == 'Gambir') & \n",
    "                      (traffic_all.delay < 2000) &\n",
    "                      (traffic_all.date == '2018-05-01')], \n",
    "        aes('start_time', 'delay', group = 1))\n",
    "+ geom_line()\n",
    "+ scale_x_datetime()\n",
    "+ geom_vline(xintercept = traffic_all.start_time[traffic_all.index.isin(cuts_gambir.index)],\n",
    "            color = 'red')\n",
    "+ xlab('Date/Time')\n",
    "+ ylab('Delay')\n",
    "+ ggtitle('Gambir Time Series of Traffic Delays on May 1, 2018 \\n with Traffic Jams (red lines)')\n",
    "+ theme_bw()\n",
    "+ theme(axis_text_x = element_text(angle = 90, hjust = .5)))"
   ]
  }
 ],
 "metadata": {
  "kernelspec": {
   "display_name": "Python 3",
   "language": "python",
   "name": "python3"
  },
  "language_info": {
   "codemirror_mode": {
    "name": "ipython",
    "version": 3
   },
   "file_extension": ".py",
   "mimetype": "text/x-python",
   "name": "python",
   "nbconvert_exporter": "python",
   "pygments_lexer": "ipython3",
   "version": "3.6.2"
  }
 },
 "nbformat": 4,
 "nbformat_minor": 2
}
