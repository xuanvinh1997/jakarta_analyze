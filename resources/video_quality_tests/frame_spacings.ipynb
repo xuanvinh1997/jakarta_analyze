{
 "cells": [
  {
   "cell_type": "code",
   "execution_count": null,
   "metadata": {},
   "outputs": [],
   "source": [
    "import os\n",
    "import sys\n",
    "import pandas as pd\n",
    "import matplotlib.pyplot as plt\n",
    "import numpy as np\n",
    "\n",
    "from modules.data.video_file import VideoFile\n",
    "from modules.utils.config_loader import get_config\n",
    "conf, confp = get_config()\n",
    "\n",
    "vid_dir = confp.dirs.videos"
   ]
  },
  {
   "cell_type": "code",
   "execution_count": null,
   "metadata": {},
   "outputs": [],
   "source": [
    "def show_img(v, time):\n",
    "    fig, ax = plt.subplots(figsize=(16, 9))\n",
    "    ax.axis('off')\n",
    "    plt.imshow(v.get_frame(time))"
   ]
  },
  {
   "cell_type": "code",
   "execution_count": null,
   "metadata": {},
   "outputs": [],
   "source": [
    "filename = # insert file path\n",
    "v = VideoFile(path=os.path.join(vid_dir, filename))"
   ]
  },
  {
   "cell_type": "code",
   "execution_count": null,
   "metadata": {},
   "outputs": [],
   "source": [
    "plt.imshow(v.get_frame(10))"
   ]
  },
  {
   "cell_type": "code",
   "execution_count": null,
   "metadata": {},
   "outputs": [],
   "source": [
    "frame_stats = v.get_frame_stats()\n",
    "frame_stats = [i.split(',') for i in frame_stats.split('\\n')]\n",
    "frame_stats_df = pd.DataFrame(frame_stats[1:], columns=frame_stats[0])\n",
    "frame_stats_df = frame_stats_df[:-1]\n",
    "frame_stats_df = frame_stats_df.apply(pd.to_numeric, errors='ignore')\n",
    "frame_stats_df.rename(columns = {'best_effort_timestamp_time' : 'time'}, inplace=True)\n",
    "frame_stats_df['time_btw_frames'] = frame_stats_df.time.diff()"
   ]
  },
  {
   "cell_type": "code",
   "execution_count": null,
   "metadata": {},
   "outputs": [],
   "source": [
    "counts = {}\n",
    "gaps = []\n",
    "good_frames = []\n",
    "gap_time = 0\n",
    "vid_time = 0\n",
    "last_problem = 0\n",
    "for i, frame in frame_stats_df.iterrows():\n",
    "    if frame.time_btw_frames > .201 or frame.time_btw_frames < 0.10:\n",
    "        n_good_frames = i - last_problem\n",
    "        good_frames.append(n_good_frames)\n",
    "        vid_time += (i - last_problem)/25.\n",
    "        last_problem = i\n",
    "        try:\n",
    "            counts[n_good_frames] += 1\n",
    "        except KeyError:\n",
    "            counts[n_good_frames] = 1\n",
    "        gaps.append(frame.time_btw_frames)\n",
    "        gap_time += frame.time_btw_frames"
   ]
  },
  {
   "cell_type": "code",
   "execution_count": null,
   "metadata": {},
   "outputs": [],
   "source": [
    "plt.bar(list(counts.keys()), counts.values())\n",
    "plt.show()"
   ]
  },
  {
   "cell_type": "code",
   "execution_count": null,
   "metadata": {},
   "outputs": [],
   "source": [
    "counts"
   ]
  },
  {
   "cell_type": "code",
   "execution_count": null,
   "metadata": {},
   "outputs": [],
   "source": [
    "frames_since_last_i = []\n",
    "time_since_last_i = []\n",
    "last_i_frame = []\n",
    "last_i_time = []\n",
    "for i, frame in frame_stats_df.iterrows():\n",
    "    if frame.key_frame:\n",
    "        last_i_frame.append(i)\n",
    "        last_i_time.append(frame.time)\n",
    "        frames_since_last_i.append(0)\n",
    "        time_since_last_i.append(0)\n",
    "    else:\n",
    "        last_i_frame.append(last_i_frame[-1])\n",
    "        last_i_time.append(last_i_time[-1])\n",
    "        frames_since_last_i.append(i-last_i_frame[-1])\n",
    "        time_since_last_i.append(frame.time - last_i_time[-1])"
   ]
  },
  {
   "cell_type": "code",
   "execution_count": null,
   "metadata": {},
   "outputs": [],
   "source": [
    "plt.plot(good_frames, gaps, 'k.')\n",
    "plt.xlabel('Number of consecutive smooth frames')\n",
    "plt.ylabel('Gap following those frames (s)')\n",
    "plt.show()"
   ]
  },
  {
   "cell_type": "code",
   "execution_count": null,
   "metadata": {},
   "outputs": [],
   "source": [
    "plt.plot(time_since_last_i, frames_since_last_i,'k.')\n",
    "plt.xlabel('Time since last I-frame (s)')\n",
    "plt.ylabel('Number of frames since last I-frame')"
   ]
  },
  {
   "cell_type": "code",
   "execution_count": null,
   "metadata": {},
   "outputs": [],
   "source": [
    "frame_stats_df['frames_since_last_i'] = frames_since_last_i\n",
    "frame_stats_df['time_since_last_i'] = time_since_last_i\n",
    "frame_stats_df['last_i_frame'] = last_i_frame\n",
    "frame_stats_df['last_i_time'] = last_i_time"
   ]
  },
  {
   "cell_type": "code",
   "execution_count": null,
   "metadata": {},
   "outputs": [],
   "source": [
    "def break_video_into_clips(filename, frame_stats, fps=6, monitor='both'):\n",
    "    start_time = 0.\n",
    "    clip_order = 0\n",
    "    frames_in_clip = 0\n",
    "    for i, frame in frame_stats.iterrows():\n",
    "        if not i:\n",
    "            frames_in_clip += 1\n",
    "            continue\n",
    "        if not frames_in_clip:\n",
    "            if frame.key_frame:\n",
    "                start_time = frame.time\n",
    "                frames_in_clip = 1\n",
    "            continue\n",
    "        if frame.time_btw_frames < .201 and frame.time_btw_frames > .05:\n",
    "            frames_in_clip += 1\n",
    "            end_time = frame.time\n",
    "        else:\n",
    "            if frames_in_clip > 10:\n",
    "                if monitor == 'both':\n",
    "                    fig, ax = plt.subplots(figsize=(16, 9))\n",
    "                    ax.axis('off')\n",
    "                    plt.imshow(v.get_frame(start_time))\n",
    "                    plt.show()\n",
    "                    fig, ax = plt.subplots(figsize=(16, 9))\n",
    "                    ax.axis('off')\n",
    "                    plt.imshow(v.get_frame(end_time))\n",
    "                    plt.show()\n",
    "                elif monitor == 'start':\n",
    "                    fig, ax = plt.subplots(figsize=(16, 9))\n",
    "                    ax.axis('off')\n",
    "                    plt.imshow(v.get_frame(start_time))\n",
    "                    plt.show()\n",
    "                elif monitor == 'end':\n",
    "                    fig, ax = plt.subplots(figsize=(16, 9))\n",
    "                    ax.axis('off')\n",
    "                    plt.imshow(v.get_frame(end_time))\n",
    "                    plt.show()\n",
    "                print('Saving video clip %i, between times %.3f and %.3f'%(clip_order,start_time,end_time))\n",
    "                my_clip = v.video_file_clip.subclip(start_time, end_time)\n",
    "                my_clip.write_videofile('clips/'+filename.split('.')[0]+'_'+str(int(start_time)+1).zfill(4)+'.mkv',\n",
    "                                        fps=fps,codec='h264')\n",
    "                clip_order += 1\n",
    "            if frame.key_frame:\n",
    "                start_time = frame.time\n",
    "                frames_in_clip = 1\n",
    "            else:\n",
    "                frames_in_clip = 0\n",
    "    if frames_in_clip > 10:\n",
    "                print('Saving video clip %i, between times %.3f and %.3f'%(clip_order,start_time,end_time))\n",
    "                my_clip = v.video_file_clip.subclip(start_time, end_time)\n",
    "                my_clip.write_videofile('clips/'+filename.split('.')[0]+'_'+str(int(start_time)+1).zfill(4)+'.mkv',\n",
    "                                        fps=fps,codec='h264')"
   ]
  },
  {
   "cell_type": "code",
   "execution_count": null,
   "metadata": {},
   "outputs": [],
   "source": []
  }
 ],
 "metadata": {
  "kernelspec": {
   "display_name": "Python 3",
   "language": "python",
   "name": "python3"
  },
  "language_info": {
   "codemirror_mode": {
    "name": "ipython",
    "version": 3
   },
   "file_extension": ".py",
   "mimetype": "text/x-python",
   "name": "python",
   "nbconvert_exporter": "python",
   "pygments_lexer": "ipython3",
   "version": "3.6.2"
  }
 },
 "nbformat": 4,
 "nbformat_minor": 2
}
