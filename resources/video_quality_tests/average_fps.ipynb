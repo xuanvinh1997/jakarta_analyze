{
 "cells": [
  {
   "cell_type": "code",
   "execution_count": null,
   "metadata": {},
   "outputs": [],
   "source": [
    "import pandas as pd\n",
    "import matplotlib.pyplot as plt"
   ]
  },
  {
   "cell_type": "code",
   "execution_count": null,
   "metadata": {},
   "outputs": [],
   "source": [
    "frame_data = pd.read_csv('frames.csv', header=None,\n",
    "                        names = [\"frame\", \"media_type\", \"stream_index\", \"key_frame\", \"pkt_pts\",\n",
    "                                 \"pkt_pts_time\", \"pkt_dts\", \"pkt_dts_time\", \"best_effort_timestamp\",\n",
    "                                 \"best_effort_timestamp_time\", \"pkt_duration\", \"pkt_duration_time\", \n",
    "                                 \"pkt_pos\", \"pkt_size\", \"width\",\n",
    "                                 \"height\", \"pix_fmt\", \"sample_aspect_ratio\", \"pict_type\",\n",
    "                                 \"coded_picture_number\", \"display_picture_number\", \"interlaced_frame\",\n",
    "                                 \"top_field_first\", \"repeat_pict\", \"color_range\", \"1\",\n",
    "                                 \"2\", \"3\", \"chroma_location\"])"
   ]
  },
  {
   "cell_type": "code",
   "execution_count": null,
   "metadata": {},
   "outputs": [],
   "source": [
    "frame_data.head()"
   ]
  },
  {
   "cell_type": "code",
   "execution_count": null,
   "metadata": {},
   "outputs": [],
   "source": [
    "frame_data = frame_data.loc[:, (frame_data != frame_data.iloc[2]).any()]"
   ]
  },
  {
   "cell_type": "code",
   "execution_count": null,
   "metadata": {},
   "outputs": [],
   "source": [
    "frame_data.head()"
   ]
  },
  {
   "cell_type": "code",
   "execution_count": null,
   "metadata": {},
   "outputs": [],
   "source": [
    "frame_data.drop(columns=['pkt_duration', 'pkt_duration_time'], inplace=True)"
   ]
  },
  {
   "cell_type": "code",
   "execution_count": null,
   "metadata": {},
   "outputs": [],
   "source": [
    "frame_data.head()"
   ]
  },
  {
   "cell_type": "code",
   "execution_count": null,
   "metadata": {},
   "outputs": [],
   "source": [
    "(frame_data['pkt_pts'] == frame_data['pkt_dts']).all()"
   ]
  },
  {
   "cell_type": "code",
   "execution_count": null,
   "metadata": {},
   "outputs": [],
   "source": [
    "(frame_data['pkt_pts'] == frame_data['best_effort_timestamp']).all()"
   ]
  },
  {
   "cell_type": "code",
   "execution_count": null,
   "metadata": {},
   "outputs": [],
   "source": [
    "(frame_data['pkt_pts_time'] == frame_data['best_effort_timestamp_time']).all()"
   ]
  },
  {
   "cell_type": "code",
   "execution_count": null,
   "metadata": {},
   "outputs": [],
   "source": [
    "(frame_data['pkt_dts_time'] == frame_data['best_effort_timestamp_time']).all()"
   ]
  },
  {
   "cell_type": "code",
   "execution_count": null,
   "metadata": {},
   "outputs": [],
   "source": [
    "frame_data.drop(columns=['pkt_dts','pkt_pts','pkt_dts_time','pkt_pts_time'],inplace=True)"
   ]
  },
  {
   "cell_type": "code",
   "execution_count": null,
   "metadata": {},
   "outputs": [],
   "source": [
    "frame_data.head()"
   ]
  },
  {
   "cell_type": "code",
   "execution_count": null,
   "metadata": {},
   "outputs": [],
   "source": [
    "frame_data.drop(columns='best_effort_timestamp',inplace=True)"
   ]
  },
  {
   "cell_type": "code",
   "execution_count": null,
   "metadata": {},
   "outputs": [],
   "source": [
    "frame_data.rename(columns = {'best_effort_timestamp_time':'time'},inplace=True)"
   ]
  },
  {
   "cell_type": "code",
   "execution_count": null,
   "metadata": {},
   "outputs": [],
   "source": [
    "frame_data[(frame_data['key_frame'] == 1) & (frame_data['pict_type'] == 'P')]"
   ]
  },
  {
   "cell_type": "code",
   "execution_count": null,
   "metadata": {},
   "outputs": [],
   "source": [
    "frame_data[(frame_data['key_frame'] == 0) & (frame_data['pict_type'] == 'I')]"
   ]
  },
  {
   "cell_type": "code",
   "execution_count": null,
   "metadata": {},
   "outputs": [],
   "source": [
    "frame_data.drop(columns=['key_frame','coded_picture_number'],inplace=True)"
   ]
  },
  {
   "cell_type": "code",
   "execution_count": null,
   "metadata": {},
   "outputs": [],
   "source": [
    "frame_data.head()"
   ]
  },
  {
   "cell_type": "code",
   "execution_count": null,
   "metadata": {},
   "outputs": [],
   "source": [
    "frame_data['time_btw_frames'] = frame_data.time.diff()"
   ]
  },
  {
   "cell_type": "code",
   "execution_count": null,
   "metadata": {},
   "outputs": [],
   "source": [
    "frame_data['avg_time_btw_frames'] = frame_data['time_btw_frames'].rolling(25).mean()"
   ]
  },
  {
   "cell_type": "code",
   "execution_count": null,
   "metadata": {},
   "outputs": [],
   "source": [
    "frame_data['fps_25'] = 1/frame_data['avg_time_btw_frames']"
   ]
  },
  {
   "cell_type": "code",
   "execution_count": null,
   "metadata": {},
   "outputs": [],
   "source": [
    "plt.plot(frame_data['time'],frame_data['fps_25'], 'b.')\n",
    "plt.xlabel('time (s)')\n",
    "plt.ylabel('fps (1/s)')\n",
    "plt.title('Running average fps over 25 frames')\n",
    "plt.savefig('average_fps.png')"
   ]
  },
  {
   "cell_type": "code",
   "execution_count": null,
   "metadata": {},
   "outputs": [],
   "source": [
    "frame_data.iloc[40:68]"
   ]
  },
  {
   "cell_type": "code",
   "execution_count": null,
   "metadata": {},
   "outputs": [],
   "source": [
    "frame_data['avg_time_btw_frames_100'] = frame_data['time_btw_frames'].rolling(100).mean()"
   ]
  },
  {
   "cell_type": "code",
   "execution_count": null,
   "metadata": {},
   "outputs": [],
   "source": [
    "frame_data['fps_100'] = 1/frame_data['avg_time_btw_frames_100']"
   ]
  },
  {
   "cell_type": "code",
   "execution_count": null,
   "metadata": {},
   "outputs": [],
   "source": [
    "plt.plot(frame_data['time'],frame_data['fps_100'], 'b.')\n",
    "plt.xlabel('time (s)')\n",
    "plt.ylabel('fps (1/s)')\n",
    "plt.title('Running average fps over 100 frames')\n",
    "plt.savefig('average_fps.png')"
   ]
  },
  {
   "cell_type": "code",
   "execution_count": null,
   "metadata": {},
   "outputs": [],
   "source": [
    "n_frames = 200\n",
    "frame_data_avg = frame_data['time_btw_frames'].rolling(n_frames).mean()\n",
    "fps = frame_data_avg\n",
    "plt.plot(frame_data['time'],fps, 'b.')\n",
    "plt.xlabel('time (s)')\n",
    "plt.ylabel('fps (1/s)')\n",
    "plt.title('Running average fps over %i frames'%n_frames)"
   ]
  }
 ],
 "metadata": {
  "kernelspec": {
   "display_name": "Python 3",
   "language": "python",
   "name": "python3"
  },
  "language_info": {
   "codemirror_mode": {
    "name": "ipython",
    "version": 3
   },
   "file_extension": ".py",
   "mimetype": "text/x-python",
   "name": "python",
   "nbconvert_exporter": "python",
   "pygments_lexer": "ipython3",
   "version": "3.6.2"
  }
 },
 "nbformat": 4,
 "nbformat_minor": 2
}
