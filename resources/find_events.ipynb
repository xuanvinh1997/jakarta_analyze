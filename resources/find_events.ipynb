{
 "cells": [
  {
   "cell_type": "code",
   "execution_count": null,
   "metadata": {},
   "outputs": [],
   "source": [
    "# ============ Base imports ======================\n",
    "import os\n",
    "import shlex\n",
    "import subprocess as sp\n",
    "from functools import partial\n",
    "# ====== External package imports ================\n",
    "import pandas as pd\n",
    "import matplotlib.pyplot as plt\n",
    "import numpy as np\n",
    "import cv2\n",
    "# ====== Internal package imports ================\n",
    "from src.modules.data.database_io import DatabaseIO\n",
    "# ============== Logging  ========================\n",
    "import logging\n",
    "from src.modules.utils.setup import setup, IndentLogger\n",
    "logger = IndentLogger(logging.getLogger(''), {})\n",
    "# =========== Config File Loading ================\n",
    "from src.modules.utils.config_loader import get_config\n",
    "conf  = get_config()\n",
    "# ================================================"
   ]
  },
  {
   "cell_type": "code",
   "execution_count": 2,
   "metadata": {},
   "outputs": [],
   "source": [
    "dbio = DatabaseIO()"
   ]
  },
  {
   "cell_type": "code",
   "execution_count": 3,
   "metadata": {},
   "outputs": [],
   "source": [
    "pluit1, columns = dbio.get_results_motion('.mkv',93)"
   ]
  },
  {
   "cell_type": "code",
   "execution_count": 4,
   "metadata": {},
   "outputs": [],
   "source": [
    "pluit1_df = pd.DataFrame(list(pluit1), columns=columns)"
   ]
  },
  {
   "cell_type": "code",
   "execution_count": null,
   "metadata": {},
   "outputs": [],
   "source": [
    "pluit1_df.head()"
   ]
  },
  {
   "cell_type": "code",
   "execution_count": 6,
   "metadata": {},
   "outputs": [],
   "source": [
    "pluit1_df['xc'] = (pluit1_df['xtl']+pluit1_df['xbr'])/2\n",
    "pluit1_df['yc'] = (pluit1_df['ytl']+pluit1_df['ybr'])/2"
   ]
  },
  {
   "cell_type": "markdown",
   "metadata": {},
   "source": [
    "what region do I care about?"
   ]
  },
  {
   "cell_type": "code",
   "execution_count": null,
   "metadata": {},
   "outputs": [],
   "source": [
    "height = 1080\n",
    "width = 1920\n",
    "frps = 5\n",
    "path = '.mkv'\n",
    "imsize = 3 * height * width  # 3 bytes per pixel\n",
    "print(f\"Reading from file: {path}\")\n",
    "commands = shlex.split(f'ffmpeg -i {path} -vf fps=1 -ss 250 -to 350 -f image2pipe -pix_fmt rgb24 -vcodec rawvideo -')\n",
    "p = sp.Popen(commands, stdout=sp.PIPE, stderr=sp.DEVNULL, bufsize=int(imsize))\n",
    "i = 0\n",
    "frame_list = []\n",
    "for raw_frame in iter(partial(p.stdout.read, imsize), ''):\n",
    "    i += 1\n",
    "    try:\n",
    "        frame = np.fromstring(raw_frame, dtype='uint8').reshape((height, width, 3))\n",
    "        frame_list.append(frame)\n",
    "    except Exception as e:\n",
    "        print(f\"Done reading from file: {path}\")\n",
    "        break"
   ]
  },
  {
   "cell_type": "code",
   "execution_count": 12,
   "metadata": {},
   "outputs": [],
   "source": [
    "def show_img(image):\n",
    "    fig, ax = plt.subplots(figsize=(16, 9))\n",
    "    ax.axis('off')\n",
    "    plt.imshow(image)"
   ]
  },
  {
   "cell_type": "code",
   "execution_count": null,
   "metadata": {},
   "outputs": [],
   "source": [
    "show_img(frame_list[0])\n",
    "frame=frame_list[0]"
   ]
  },
  {
   "cell_type": "markdown",
   "metadata": {},
   "source": [
    "Draw region on image in order to test out what is the right polygon"
   ]
  },
  {
   "cell_type": "code",
   "execution_count": null,
   "metadata": {},
   "outputs": [],
   "source": [
    "frame = frame_list[1].copy()\n",
    "tl = (800,200)\n",
    "tr = (960,200)\n",
    "bl = (326,508)\n",
    "br = (533,529)\n",
    "cv2.line(frame, tl, tr, (255,0,0), 2)\n",
    "cv2.line(frame, tr, br, (255,0,0), 2)\n",
    "cv2.line(frame, br, bl, (255,0,0), 2)\n",
    "cv2.line(frame, bl, tl, (255,0,0), 2)\n",
    "cv2.line(frame, (430,510),(880,200),(0,255,0),2)\n",
    "show_img(frame)"
   ]
  },
  {
   "cell_type": "code",
   "execution_count": 8,
   "metadata": {},
   "outputs": [],
   "source": [
    "def in_hull(p, hull):\n",
    "    \"\"\"\n",
    "    Test if points in `p` are in `hull`\n",
    "\n",
    "    `p` should be a `NxK` coordinates of `N` points in `K` dimensions\n",
    "    `hull` is either a scipy.spatial.Delaunay object or the `MxK` array of the\n",
    "    coordinates of `M` points in `K`dimensions for which Delaunay triangulation\n",
    "    will be computed\n",
    "    \"\"\"\n",
    "    from scipy.spatial import Delaunay\n",
    "    if not isinstance(hull,Delaunay):\n",
    "        hull = Delaunay(hull)\n",
    "\n",
    "    return hull.find_simplex(p)>=0"
   ]
  },
  {
   "cell_type": "markdown",
   "metadata": {},
   "source": [
    "Define which objects are in that region"
   ]
  },
  {
   "cell_type": "code",
   "execution_count": 15,
   "metadata": {},
   "outputs": [],
   "source": [
    "pluit_coord = [(pluit1_df.loc[ii,'xc'],pluit1_df.loc[ii,'ybr']) for ii in range(len(pluit1_df))]"
   ]
  },
  {
   "cell_type": "code",
   "execution_count": 23,
   "metadata": {},
   "outputs": [],
   "source": [
    "pluit1_in_area = pluit1_df.loc[in_hull(pluit_coord, [tl,tr,br,bl])]"
   ]
  },
  {
   "cell_type": "code",
   "execution_count": 18,
   "metadata": {},
   "outputs": [],
   "source": [
    "direction = np.array([880-430,200-510])\n",
    "direction = direction/np.linalg.norm(direction)"
   ]
  },
  {
   "cell_type": "code",
   "execution_count": null,
   "metadata": {},
   "outputs": [],
   "source": [
    "direction"
   ]
  },
  {
   "cell_type": "code",
   "execution_count": null,
   "metadata": {},
   "outputs": [],
   "source": [
    "pluit1_in_area.loc[:,'magnitude'] = np.sqrt(pluit1_in_area['mean_delta_x']**2 + pluit1_in_area['mean_delta_y']**2)"
   ]
  },
  {
   "cell_type": "code",
   "execution_count": 27,
   "metadata": {},
   "outputs": [],
   "source": [
    "pluit1_df3 = pluit1_in_area[pluit1_in_area['magnitude']>0]"
   ]
  },
  {
   "cell_type": "code",
   "execution_count": null,
   "metadata": {},
   "outputs": [],
   "source": [
    "len(pluit1_df3)"
   ]
  },
  {
   "cell_type": "code",
   "execution_count": null,
   "metadata": {},
   "outputs": [],
   "source": [
    "pluit1_df3['cos'] = (direction[0]*pluit1_df3['mean_delta_x']+direction[1]*pluit1_df3['mean_delta_y'])/pluit1_df3['magnitude']"
   ]
  },
  {
   "cell_type": "code",
   "execution_count": null,
   "metadata": {},
   "outputs": [],
   "source": [
    "plt.hist(pluit1_df3['cos'], bins=20)\n",
    "plt.show()"
   ]
  },
  {
   "cell_type": "markdown",
   "metadata": {},
   "source": [
    "Find objects in that image coming down the wrong direction"
   ]
  },
  {
   "cell_type": "code",
   "execution_count": null,
   "metadata": {},
   "outputs": [],
   "source": [
    "pluit1_wrongdir = pluit1_df3[pluit1_df3['cos']<-.8]"
   ]
  },
  {
   "cell_type": "code",
   "execution_count": null,
   "metadata": {},
   "outputs": [],
   "source": [
    "len(pluit1_wrongdir)"
   ]
  },
  {
   "cell_type": "code",
   "execution_count": null,
   "metadata": {},
   "outputs": [],
   "source": [
    "plt.hist(pluit1_wrongdir['frame_number'],bins=40)"
   ]
  },
  {
   "cell_type": "code",
   "execution_count": null,
   "metadata": {},
   "outputs": [],
   "source": [
    "labels_we_test = ['car','truck','bicycle','motorbike','pedestrian','bus']\n",
    "pluit1_wrongdir['label'] = pluit1_wrongdir[labels_we_test].idxmax(axis=1)\n",
    "pluit1_wrongdir['confidence'] = pluit1_wrongdir[labels_we_test].max(axis=1)"
   ]
  },
  {
   "cell_type": "markdown",
   "metadata": {},
   "source": [
    "Here, select for cars detected with confidence above 0.4"
   ]
  },
  {
   "cell_type": "code",
   "execution_count": 53,
   "metadata": {},
   "outputs": [],
   "source": [
    "pluit1_wrongdir = pluit1_wrongdir[(pluit1_wrongdir['label']=='car') & (pluit1_wrongdir['confidence']>.4)]"
   ]
  },
  {
   "cell_type": "code",
   "execution_count": 72,
   "metadata": {},
   "outputs": [],
   "source": [
    "pluit1_wrongdir = pluit1_wrongdir[pluit1_wrongdir['magnitude']>10].sort_values('frame_number')"
   ]
  },
  {
   "cell_type": "code",
   "execution_count": null,
   "metadata": {},
   "outputs": [],
   "source": [
    "pluit1_wrongdir"
   ]
  },
  {
   "cell_type": "code",
   "execution_count": 47,
   "metadata": {},
   "outputs": [],
   "source": [
    "v = VideoFile(f'{conf.dirs.videos}.mkv')"
   ]
  },
  {
   "cell_type": "markdown",
   "metadata": {},
   "source": [
    "Check a video segment where we might have found something..."
   ]
  },
  {
   "cell_type": "code",
   "execution_count": null,
   "metadata": {},
   "outputs": [],
   "source": [
    "clip = v.video_file_clip.subclip(3357.5,3363)\n",
    "#clip = clip.fl_time(lambda t: t/25.)\n",
    "#clip = clip.set_duration(50.)\n",
    "mpy.ipython_display(clip, width=500, maxduration=100,fps=6)"
   ]
  },
  {
   "cell_type": "markdown",
   "metadata": {},
   "source": [
    "Save it!"
   ]
  },
  {
   "cell_type": "code",
   "execution_count": null,
   "metadata": {},
   "outputs": [],
   "source": [
    "clip.write_videofile('clips_0813/events1.mkv',\n",
    "                                        fps=6,codec='h264')"
   ]
  },
  {
   "cell_type": "code",
   "execution_count": null,
   "metadata": {},
   "outputs": [],
   "source": [
    "clip = v.video_file_clip.subclip(3445,3455)\n",
    "#clip = clip.fl_time(lambda t: t/25.)\n",
    "#clip = clip.set_duration(50.)\n",
    "mpy.ipython_display(clip, width=500, maxduration=100)"
   ]
  },
  {
   "cell_type": "markdown",
   "metadata": {},
   "source": [
    "We want to find close-by frames where we detect such objects, to ensure the detection is not spurious. This plot helps with that:"
   ]
  },
  {
   "cell_type": "code",
   "execution_count": null,
   "metadata": {},
   "outputs": [],
   "source": [
    "plt.plot(np.array(pluit1_wrongdir['frame_number'].rolling(5).std()))\n",
    "plt.yscale('log')"
   ]
  },
  {
   "cell_type": "markdown",
   "metadata": {},
   "source": [
    "### Finally, let's make a function carrying out all these calculations, in order to apply this method to more videos:"
   ]
  },
  {
   "cell_type": "code",
   "execution_count": 112,
   "metadata": {},
   "outputs": [],
   "source": [
    "def plot_rolling_std_wrong_direction_cars(vid_ref,confidence=.4,class_of_interest='car'):\n",
    "    pluit2, columns = dbio.get_results_motion(vid_ref,93)\n",
    "    pluit2_df = pd.DataFrame(list(pluit2), columns=columns)\n",
    "    pluit2_df['xc'] = (pluit2_df['xtl']+pluit2_df['xbr'])/2\n",
    "    pluit2_coord = [(pluit2_df.loc[ii,'xc'],pluit2_df.loc[ii,'ybr']) for ii in range(len(pluit2_df))]\n",
    "    pluit2_in_area = pluit2_df.loc[in_hull(pluit2_coord, [tl,tr,br,bl])]\n",
    "    pluit2_in_area.loc[:,'magnitude'] = np.sqrt(pluit2_in_area['mean_delta_x']**2 + pluit2_in_area['mean_delta_y']**2)\n",
    "    pluit2_df3 = pluit2_in_area[pluit2_in_area['magnitude']>0]\n",
    "    pluit2_df3['cos'] = (direction[0]*pluit2_df3['mean_delta_x']+direction[1]*pluit2_df3['mean_delta_y'])/pluit2_df3['magnitude']\n",
    "    pluit2_wrongdir = pluit2_df3[pluit2_df3['cos']<-.8]\n",
    "    pluit2_wrongdir['label'] = pluit2_wrongdir[labels_we_test].idxmax(axis=1)\n",
    "    pluit2_wrongdir['confidence'] = pluit2_wrongdir[labels_we_test].max(axis=1)\n",
    "    pluit2_wrongdir = pluit2_wrongdir[(pluit2_wrongdir['label']=='car') & (pluit2_wrongdir['confidence']>.4)]\n",
    "    pluit2_wrongdir = pluit2_wrongdir[pluit2_wrongdir['magnitude']>10].sort_values('frame_number')\n",
    "    plt.plot(np.array(pluit2_wrongdir['frame_number'].rolling(5).std()), 'bo', np.array(pluit2_wrongdir['frame_number'].rolling(5).std()), 'k')\n",
    "    plt.yscale('log')\n",
    "    plt.show()\n",
    "    return pluit2_wrongdir"
   ]
  },
  {
   "cell_type": "code",
   "execution_count": null,
   "metadata": {},
   "outputs": [],
   "source": [
    "wrongdir_df = plot_rolling_std_wrong_direction_cars('.mkv')"
   ]
  },
  {
   "cell_type": "code",
   "execution_count": null,
   "metadata": {},
   "outputs": [],
   "source": [
    "wrongdir_df = plot_rolling_std_wrong_direction_cars('.mkv')"
   ]
  },
  {
   "cell_type": "markdown",
   "metadata": {},
   "source": [
    "When we find a low spot in the graphs, this tells us there is such an event, and we can go look at the video..."
   ]
  },
  {
   "cell_type": "code",
   "execution_count": null,
   "metadata": {},
   "outputs": [],
   "source": [
    "wrongdir_df.iloc[35:]"
   ]
  },
  {
   "cell_type": "code",
   "execution_count": null,
   "metadata": {},
   "outputs": [],
   "source": [
    "v5 = VideoFile('.mkv')"
   ]
  },
  {
   "cell_type": "code",
   "execution_count": null,
   "metadata": {},
   "outputs": [],
   "source": [
    "clip = v5.video_file_clip.subclip(3686,3696)\n",
    "#clip = clip.fl_time(lambda t: t/25.)\n",
    "#clip = clip.set_duration(50.)\n",
    "mpy.ipython_display(clip, width=500, maxduration=100, fps=6)"
   ]
  },
  {
   "cell_type": "code",
   "execution_count": null,
   "metadata": {},
   "outputs": [],
   "source": [
    "wrongdir_df = plot_rolling_std_wrong_direction_cars('.mkv')"
   ]
  },
  {
   "cell_type": "code",
   "execution_count": null,
   "metadata": {},
   "outputs": [],
   "source": [
    "wrongdir_df.iloc[19:30]"
   ]
  },
  {
   "cell_type": "code",
   "execution_count": null,
   "metadata": {},
   "outputs": [],
   "source": [
    "v2 = VideoFile('.mkv')"
   ]
  },
  {
   "cell_type": "code",
   "execution_count": null,
   "metadata": {},
   "outputs": [],
   "source": [
    "clip = v2.video_file_clip.subclip(3830,3840)\n",
    "mpy.ipython_display(clip, width=500, maxduration=100, fps=6)"
   ]
  },
  {
   "cell_type": "code",
   "execution_count": null,
   "metadata": {},
   "outputs": [],
   "source": [
    "clip.write_videofile('clips_0813/events2.mkv',\n",
    "                                        fps=6,codec='h264')"
   ]
  },
  {
   "cell_type": "markdown",
   "metadata": {},
   "source": [
    "### Note: cosine cut at 0.95 instead of 0.8 seems to work well for all events we detected"
   ]
  }
 ],
 "metadata": {
  "kernelspec": {
   "display_name": "Python 3",
   "language": "python",
   "name": "python3"
  },
  "language_info": {
   "codemirror_mode": {
    "name": "ipython",
    "version": 3
   },
   "file_extension": ".py",
   "mimetype": "text/x-python",
   "name": "python",
   "nbconvert_exporter": "python",
   "pygments_lexer": "ipython3",
   "version": "3.6.2"
  }
 },
 "nbformat": 4,
 "nbformat_minor": 2
}
