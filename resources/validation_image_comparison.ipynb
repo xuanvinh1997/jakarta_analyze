{
 "cells": [
  {
   "cell_type": "code",
   "execution_count": null,
   "metadata": {},
   "outputs": [],
   "source": [
    "# ============ Base imports ======================\n",
    "import os\n",
    "# ====== External package imports ================\n",
    "import pandas as pd\n",
    "import matplotlib.pyplot as plt\n",
    "import numpy as np\n",
    "# ====== Internal package imports ================\n",
    "from src.main.precision_recall import Analysis\n",
    "# ============== Logging  ========================\n",
    "import logging\n",
    "from src.modules.utils.setup import setup, IndentLogger\n",
    "logger = IndentLogger(logging.getLogger(''), {})\n",
    "# =========== Config File Loading ================\n",
    "from src.modules.utils.config_loader import get_config\n",
    "conf  = get_config()\n",
    "# ================================================"
   ]
  },
  {
   "cell_type": "code",
   "execution_count": null,
   "metadata": {},
   "outputs": [],
   "source": [
    "setup('pr_curves')\n",
    "vid_ref = ''\n",
    "analysis_group = Analysis(model=40, vid_ref=vid_ref)"
   ]
  },
  {
   "cell_type": "code",
   "execution_count": 3,
   "metadata": {},
   "outputs": [],
   "source": [
    "import cv2\n",
    "import subprocess as sp\n",
    "import shlex\n",
    "from functools import partial"
   ]
  },
  {
   "cell_type": "raw",
   "metadata": {},
   "source": [
    "height = 1080\n",
    "width = 1920\n",
    "frps = 5\n",
    "path = f'{conf.dirs.video_samples}{vid_ref}.mkv'\n",
    "imsize = 3 * height * width  # 3 bytes per pixel\n",
    "print(f\"Reading from file: {path}\")\n",
    "commands = shlex.split(f'ffmpeg -r {frps} -i {path} -f image2pipe -pix_fmt rgb24 -vcodec rawvideo -')\n",
    "p = sp.Popen(commands, stdout=sp.PIPE, stderr=sp.DEVNULL, bufsize=int(imsize))\n",
    "i = 0\n",
    "frame_list = []\n",
    "for raw_frame in iter(partial(p.stdout.read, imsize), ''):\n",
    "    i += 1\n",
    "    try:\n",
    "        frame = np.fromstring(raw_frame, dtype='uint8').reshape((height, width, 3))\n",
    "        frame_list.append(frame)\n",
    "    except Exception as e:\n",
    "        print(f\"Done reading from file: {path}\")\n",
    "        break"
   ]
  },
  {
   "cell_type": "code",
   "execution_count": null,
   "metadata": {},
   "outputs": [],
   "source": [
    "def show_img(image):\n",
    "    fig, ax = plt.subplots(figsize=(16, 9))\n",
    "    ax.axis('off')\n",
    "    plt.imshow(image)"
   ]
  },
  {
   "cell_type": "code",
   "execution_count": null,
   "metadata": {},
   "outputs": [],
   "source": [
    "box_color_true = (0,0,255)\n",
    "box_color_pred_tp = (0,255,0)\n",
    "box_color_pred_fp = (255,0,0)\n",
    "font_scale = .5\n",
    "for i, frame in enumerate(frame_list):\n",
    "    boxes = analysis_group.true_boxes[analysis_group.true_boxes['frame'] == i+1][['xtl','ytl','xbr','ybr']].values\n",
    "    labels = analysis_group.true_boxes[analysis_group.true_boxes['frame'] == i+1][['label']].values\n",
    "    for box, label in zip(boxes, labels):\n",
    "        cv2.rectangle(frame, (int(box[0]), int(box[1])), (int(box[2]), int(box[3])), box_color_true, 2)\n",
    "        cv2.putText(frame, label[0], (int(box[0]), int(box[3])), cv2.FONT_HERSHEY_COMPLEX_SMALL, font_scale, box_color_true)\n",
    "        \n",
    "    relevant_pred = analysis_group.pred_boxes[(analysis_group.pred_boxes['frame'] == i+1) & \n",
    "                                              (analysis_group.pred_boxes['confidence']>.1)]\n",
    "    boxes = relevant_pred[['xtl','ytl','xbr','ybr']].values\n",
    "    labels = relevant_pred[['label']].values\n",
    "    true_pos = relevant_pred[['true_positive']].values\n",
    "    for box, label, true_positive in zip(boxes, labels, true_pos):\n",
    "        if true_positive:\n",
    "            cv2.rectangle(frame, (int(box[0]), int(box[1])), (int(box[2]), int(box[3])), box_color_pred_tp, 2)\n",
    "            cv2.putText(frame, label[0], (int(box[0]), int(box[3])), cv2.FONT_HERSHEY_COMPLEX_SMALL, font_scale, box_color_pred_tp)\n",
    "        else:\n",
    "            cv2.rectangle(frame, (int(box[0]), int(box[1])), (int(box[2]), int(box[3])), box_color_pred_fp, 2)\n",
    "            cv2.putText(frame, label[0], (int(box[0]), int(box[3])), cv2.FONT_HERSHEY_COMPLEX_SMALL, font_scale, box_color_pred_fp)\n",
    "        \n",
    "    \n",
    "    show_img(frame)\n",
    "    #plt.savefig(f'frame_{i}.png')\n",
    "    plt.show()\n",
    "    plt.close()"
   ]
  }
 ],
 "metadata": {
  "kernelspec": {
   "display_name": "Python 3",
   "language": "python",
   "name": "python3"
  },
  "language_info": {
   "codemirror_mode": {
    "name": "ipython",
    "version": 3
   },
   "file_extension": ".py",
   "mimetype": "text/x-python",
   "name": "python",
   "nbconvert_exporter": "python",
   "pygments_lexer": "ipython3",
   "version": "3.6.2"
  }
 },
 "nbformat": 4,
 "nbformat_minor": 2
}
