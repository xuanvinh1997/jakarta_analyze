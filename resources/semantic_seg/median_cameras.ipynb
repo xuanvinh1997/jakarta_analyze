{
 "cells": [
  {
   "cell_type": "code",
   "execution_count": null,
   "metadata": {},
   "outputs": [],
   "source": [
    "import cv2\n",
    "import subprocess as sp\n",
    "import shlex\n",
    "import os\n",
    "from functools import partial"
   ]
  },
  {
   "cell_type": "code",
   "execution_count": null,
   "metadata": {},
   "outputs": [],
   "source": [
    "import pandas as pd\n",
    "import matplotlib.pyplot as plt\n",
    "import numpy as np\n",
    "from src.modules.utils.config_loader import get_config\n",
    "conf  = get_config()\n",
    "import itertools\n",
    "%matplotlib inline"
   ]
  },
  {
   "cell_type": "code",
   "execution_count": null,
   "metadata": {},
   "outputs": [],
   "source": [
    "def show_img(image):\n",
    "    fig, ax = plt.subplots(figsize=(16, 9))\n",
    "    ax.axis('off')\n",
    "    plt.imshow(image)"
   ]
  },
  {
   "cell_type": "code",
   "execution_count": null,
   "metadata": {},
   "outputs": [],
   "source": [
    "height = 1080\n",
    "width = 1920\n",
    "path = # insert video path\n",
    "imsize = 3 * height * width  # 3 bytes per pixel\n",
    "start_second = 0\n",
    "end_second = 300\n",
    "print(f\"Reading from file: {path}\")\n",
    "commands = shlex.split(f'ffmpeg -i {path} -vf fps=1 -ss {start_second} -to {end_second} -f image2pipe -pix_fmt rgb24 -vcodec rawvideo -')\n",
    "p = sp.Popen(commands, stdout=sp.PIPE, stderr=sp.DEVNULL, bufsize=int(imsize))\n",
    "i = 0\n",
    "frame_list = []\n",
    "for raw_frame in iter(partial(p.stdout.read, imsize), ''):\n",
    "    i += 1\n",
    "    try:\n",
    "        frame = np.fromstring(raw_frame, dtype='uint8').reshape((height, width, 3))\n",
    "        frame_list.append(frame)\n",
    "    except Exception as e:\n",
    "        print(f\"Done reading from file: {path}\")\n",
    "        break"
   ]
  },
  {
   "cell_type": "code",
   "execution_count": null,
   "metadata": {},
   "outputs": [],
   "source": [
    "median = np.median(frame_list, axis=0)\n",
    "median = median.astype('int')\n",
    "show_img(median)"
   ]
  },
  {
   "cell_type": "code",
   "execution_count": null,
   "metadata": {},
   "outputs": [],
   "source": [
    "plt.imsave('median.png', median)"
   ]
  },
  {
   "cell_type": "code",
   "execution_count": null,
   "metadata": {},
   "outputs": [],
   "source": []
  }
 ],
 "metadata": {
  "kernelspec": {
   "display_name": "Python 3",
   "language": "python",
   "name": "python3"
  },
  "language_info": {
   "codemirror_mode": {
    "name": "ipython",
    "version": 3
   },
   "file_extension": ".py",
   "mimetype": "text/x-python",
   "name": "python",
   "nbconvert_exporter": "python",
   "pygments_lexer": "ipython3",
   "version": "3.6.2"
  }
 },
 "nbformat": 4,
 "nbformat_minor": 2
}
